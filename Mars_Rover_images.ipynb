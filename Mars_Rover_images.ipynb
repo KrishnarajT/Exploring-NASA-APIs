{
 "cells": [
  {
   "cell_type": "markdown",
   "metadata": {},
   "source": [
    "# Mars Rover Photos"
   ]
  },
  {
   "cell_type": "markdown",
   "metadata": {},
   "source": [
    "This API is designed to collect image data gathered by NASA's Curiosity, Opportunity, and Spirit rovers on Mars and make it more easily available to other developers, educators, and citizen scientists. This API is maintained by Chris Cerami.\n",
    "\n",
    "Each rover has its own set of photos stored in the database, which can be queried separately. There are several possible queries that can be made against the API. Photos are organized by the sol (Martian rotation or day) on which they were taken, counting up from the rover's landing date. A photo taken on Curiosity's 1000th Martian sol exploring Mars, for example, will have a sol attribute of 1000. If instead you prefer to search by the Earth date on which a photo was taken, you can do that, too.\n",
    "\n",
    "Along with querying by date, results can also be filtered by the camera with which it was taken and responses will be limited to 25 photos per call. Queries that should return more than 25 photos will be split onto several pages, which can be accessed by adding a 'page' param to the query."
   ]
  },
  {
   "cell_type": "code",
   "execution_count": null,
   "metadata": {},
   "outputs": [],
   "source": []
  },
  {
   "cell_type": "code",
   "execution_count": null,
   "metadata": {},
   "outputs": [],
   "source": [
    "import requests\n",
    "import json\n",
    "import os\n",
    "import PIL\n",
    "import urllib\n",
    "from datetime import date, time, datetime\n",
    "\n",
    "\n",
    "# Basic function to clean up output\n",
    "def jprint(obj):\n",
    "    # create a formatted string of the Python JSON object\n",
    "    text = json.dumps(obj, sort_keys=True, indent=4)\n",
    "    print(text)\n",
    "    \n",
    "    \n",
    "# Getting the API Key into the script\n",
    "with open(os.path.join(os.getcwd(), \"My_API_KEY\"), 'r') as file:\n",
    "    my_api_key = file.read()\n",
    "    "
   ]
  },
  {
   "cell_type": "code",
   "execution_count": null,
   "metadata": {},
   "outputs": [],
   "source": [
    "image_date = date(2022, 2, 5)\n",
    "params = {\n",
    "    # 'sol': 1000,\n",
    "    'earth_date': '2022-02-04',\n",
    "    'api_key' : my_api_key \n",
    "}"
   ]
  },
  {
   "cell_type": "code",
   "execution_count": null,
   "metadata": {},
   "outputs": [],
   "source": [
    "response = requests.get('https://api.nasa.gov/mars-photos/api/v1/rovers/curiosity/photos', params)\n",
    "# images_list = [i.get('image') for i in response.json()]"
   ]
  },
  {
   "cell_type": "code",
   "execution_count": null,
   "metadata": {},
   "outputs": [],
   "source": [
    "jprint(response.json())\n",
    "images_list = [i.get('img_src') for i in response.json().get('photos')]"
   ]
  },
  {
   "cell_type": "code",
   "execution_count": null,
   "metadata": {},
   "outputs": [],
   "source": [
    "for i, image_url in enumerate(images_list):\n",
    "    sol = response.json().get('photos')[i].get('sol')\n",
    "    urllib.request.urlretrieve(image_url, os.path.join(os.getcwd(), 'Mars', f'Sol {sol} Image {i} by Curiosity.jpg'))   "
   ]
  }
 ],
 "metadata": {
  "interpreter": {
   "hash": "f82e8ed49f2e756dcb272e46eaa928f3354408858dd66707dda6895903f5c499"
  },
  "kernelspec": {
   "display_name": "Python 3.8.8 64-bit ('Experimentation-Venv': venv)",
   "language": "python",
   "name": "python3"
  },
  "language_info": {
   "codemirror_mode": {
    "name": "ipython",
    "version": 3
   },
   "file_extension": ".py",
   "mimetype": "text/x-python",
   "name": "python",
   "nbconvert_exporter": "python",
   "pygments_lexer": "ipython3",
   "version": "3.8.8"
  },
  "orig_nbformat": 4
 },
 "nbformat": 4,
 "nbformat_minor": 2
}
