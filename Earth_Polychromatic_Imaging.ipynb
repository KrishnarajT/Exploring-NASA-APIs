{
 "cells": [
  {
   "cell_type": "markdown",
   "metadata": {},
   "source": [
    "# Earth Polychromatic Imaging Camera\n",
    "\n",
    "\n",
    "The EPIC API provides information on the daily imagery collected by DSCOVR's Earth Polychromatic Imaging Camera (EPIC) instrument. Uniquely positioned at the Earth-Sun Lagrange point, EPIC provides full disc imagery of the Earth and captures unique perspectives of certain astronomical events such as lunar transits using a 2048x2048 pixel CCD (Charge Coupled Device) detector coupled to a 30-cm aperture Cassegrain telescope.\n",
    "\n",
    "Image metadata and key information are provided by the JSON API and can be requested by date and for the most recent available date. A listing of all available dates can also be retrieved via the API for more granular control.\n",
    "\n",
    "Development of the EPIC API began in 2015, and is supported by the web development team for the Laboratory for Atmospheres in the Earth Sciences Division of the Goddard Space Flight Center. More information regarding the API and retrieval of the imagery for download can be found on the EPIC website."
   ]
  },
  {
   "cell_type": "markdown",
   "metadata": {},
   "source": [
    "### Basic Declaration of Some functions"
   ]
  },
  {
   "cell_type": "code",
   "execution_count": 80,
   "metadata": {},
   "outputs": [],
   "source": [
    "import requests\n",
    "import json\n",
    "import os\n",
    "import PIL\n",
    "import urllib\n",
    "from datetime import date, time, datetime\n",
    "\n",
    "\n",
    "# Basic function to clean up output\n",
    "def jprint(obj):\n",
    "    # create a formatted string of the Python JSON object\n",
    "    text = json.dumps(obj, sort_keys=True, indent=4)\n",
    "    print(text)\n",
    "    \n",
    "    \n",
    "# Getting the API Key into the script\n",
    "with open(os.path.join(os.getcwd(), \"My_API_KEY\"), 'r') as file:\n",
    "    my_api_key = file.read()\n",
    "    "
   ]
  },
  {
   "cell_type": "markdown",
   "metadata": {},
   "source": [
    "### Setting the Date on which we want the Image"
   ]
  },
  {
   "cell_type": "code",
   "execution_count": null,
   "metadata": {},
   "outputs": [],
   "source": [
    "image_date = date(2022, 2, 5)\n",
    "params = {\n",
    "    'natural/date': image_date,\n",
    "    'api_key' : my_api_key \n",
    "}"
   ]
  },
  {
   "cell_type": "markdown",
   "metadata": {},
   "source": [
    "### Requesting and making a list of all the images that were taken on that day"
   ]
  },
  {
   "cell_type": "code",
   "execution_count": null,
   "metadata": {},
   "outputs": [],
   "source": [
    "response = requests.get(f'https://api.nasa.gov/EPIC/api/natural/images?', params)\n",
    "images_list = [i.get('image') for i in response.json()]"
   ]
  },
  {
   "cell_type": "code",
   "execution_count": 59,
   "metadata": {},
   "outputs": [
    {
     "name": "stdout",
     "output_type": "stream",
     "text": [
      "https://api.nasa.gov/EPIC/archive/natural/2022/02/05/png/epic_1b_20220205004554.png?api_key=YTus5EwF0eWE3EterzdeFFmk4RcGXfOarJiY8Fpk\n",
      "https://api.nasa.gov/EPIC/archive/natural/2022/02/05/png/epic_1b_20220205023357.png?api_key=YTus5EwF0eWE3EterzdeFFmk4RcGXfOarJiY8Fpk\n",
      "https://api.nasa.gov/EPIC/archive/natural/2022/02/05/png/epic_1b_20220205042159.png?api_key=YTus5EwF0eWE3EterzdeFFmk4RcGXfOarJiY8Fpk\n",
      "https://api.nasa.gov/EPIC/archive/natural/2022/02/05/png/epic_1b_20220205061001.png?api_key=YTus5EwF0eWE3EterzdeFFmk4RcGXfOarJiY8Fpk\n",
      "https://api.nasa.gov/EPIC/archive/natural/2022/02/05/png/epic_1b_20220205075804.png?api_key=YTus5EwF0eWE3EterzdeFFmk4RcGXfOarJiY8Fpk\n",
      "https://api.nasa.gov/EPIC/archive/natural/2022/02/05/png/epic_1b_20220205094606.png?api_key=YTus5EwF0eWE3EterzdeFFmk4RcGXfOarJiY8Fpk\n",
      "https://api.nasa.gov/EPIC/archive/natural/2022/02/05/png/epic_1b_20220205113408.png?api_key=YTus5EwF0eWE3EterzdeFFmk4RcGXfOarJiY8Fpk\n",
      "https://api.nasa.gov/EPIC/archive/natural/2022/02/05/png/epic_1b_20220205132211.png?api_key=YTus5EwF0eWE3EterzdeFFmk4RcGXfOarJiY8Fpk\n",
      "https://api.nasa.gov/EPIC/archive/natural/2022/02/05/png/epic_1b_20220205151013.png?api_key=YTus5EwF0eWE3EterzdeFFmk4RcGXfOarJiY8Fpk\n",
      "https://api.nasa.gov/EPIC/archive/natural/2022/02/05/png/epic_1b_20220205165815.png?api_key=YTus5EwF0eWE3EterzdeFFmk4RcGXfOarJiY8Fpk\n",
      "https://api.nasa.gov/EPIC/archive/natural/2022/02/05/png/epic_1b_20220205184619.png?api_key=YTus5EwF0eWE3EterzdeFFmk4RcGXfOarJiY8Fpk\n"
     ]
    }
   ],
   "source": [
    "for i, image_name in enumerate(images_list):\n",
    "    image_month = image_date.strftime('%m')\n",
    "    image_day = image_date.strftime('%d')\n",
    "    url = f'https://api.nasa.gov/EPIC/archive/natural/{image_date.year}/{image_month}/{image_day}/png/{image_name}.png?api_key={my_api_key}'\n",
    "    urllib.request.urlretrieve(url, os.path.join(os.getcwd(), 'Earth', f'{image_date} {i}.jpg'))"
   ]
  }
 ],
 "metadata": {
  "interpreter": {
   "hash": "f82e8ed49f2e756dcb272e46eaa928f3354408858dd66707dda6895903f5c499"
  },
  "kernelspec": {
   "display_name": "Python 3.8.8 64-bit ('Experimentation-Venv': venv)",
   "language": "python",
   "name": "python3"
  },
  "language_info": {
   "codemirror_mode": {
    "name": "ipython",
    "version": 3
   },
   "file_extension": ".py",
   "mimetype": "text/x-python",
   "name": "python",
   "nbconvert_exporter": "python",
   "pygments_lexer": "ipython3",
   "version": "3.8.8"
  },
  "orig_nbformat": 4
 },
 "nbformat": 4,
 "nbformat_minor": 2
}
