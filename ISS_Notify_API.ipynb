{
 "cells": [
  {
   "cell_type": "markdown",
   "metadata": {},
   "source": [
    "# Where is the ISS"
   ]
  },
  {
   "cell_type": "markdown",
   "metadata": {},
   "source": [
    "## International Space Station Current Location\n",
    "The International Space Station is moving at close to 28,000 km/h so its location changes really fast! Where is it right now?\n",
    "\n",
    "Overview\n",
    "This is a simple api to return the current location of the ISS. It returns the current latitude and longitude of the space station with a unix timestamp for the time the location was valid. This API takes no inputs.\n"
   ]
  },
  {
   "cell_type": "markdown",
   "metadata": {},
   "source": [
    "http://api.open-notify.org/iss-now.json"
   ]
  },
  {
   "cell_type": "code",
   "execution_count": 13,
   "metadata": {},
   "outputs": [],
   "source": [
    "import requests\n",
    "import os\n",
    "from datetime import datetime"
   ]
  },
  {
   "cell_type": "code",
   "execution_count": 2,
   "metadata": {},
   "outputs": [],
   "source": [
    "response = requests.get(\"http://api.open-notify.org/iss-now.json\") # takes like 10 seconds"
   ]
  },
  {
   "cell_type": "code",
   "execution_count": 5,
   "metadata": {},
   "outputs": [
    {
     "data": {
      "text/plain": [
       "{'timestamp': 1644141306,\n",
       " 'message': 'success',\n",
       " 'iss_position': {'latitude': '6.6871', 'longitude': '-15.7547'}}"
      ]
     },
     "execution_count": 5,
     "metadata": {},
     "output_type": "execute_result"
    }
   ],
   "source": [
    "response.json()"
   ]
  },
  {
   "cell_type": "markdown",
   "metadata": {},
   "source": [
    "# When will it pass this location?"
   ]
  },
  {
   "cell_type": "code",
   "execution_count": 6,
   "metadata": {},
   "outputs": [],
   "source": [
    "parameters = {\n",
    "    \"lat\": 18.520430, \n",
    "    \"lon\": 73.856743\n",
    "}"
   ]
  },
  {
   "cell_type": "code",
   "execution_count": 11,
   "metadata": {},
   "outputs": [],
   "source": [
    "response = requests.get(\"http://api.open-notify.org/iss-pass.json\", parameters) # takes like 10 seconds"
   ]
  },
  {
   "cell_type": "code",
   "execution_count": 12,
   "metadata": {},
   "outputs": [
    {
     "data": {
      "text/plain": [
       "{'message': 'success',\n",
       " 'request': {'altitude': 100,\n",
       "  'datetime': 1644141520,\n",
       "  'latitude': 18.52043,\n",
       "  'longitude': 73.856743,\n",
       "  'passes': 5},\n",
       " 'response': [{'duration': 579, 'risetime': 1644154310},\n",
       "  {'duration': 592, 'risetime': 1644160101},\n",
       "  {'duration': 426, 'risetime': 1644202436},\n",
       "  {'duration': 644, 'risetime': 1644208111},\n",
       "  {'duration': 251, 'risetime': 1644214141}]}"
      ]
     },
     "execution_count": 12,
     "metadata": {},
     "output_type": "execute_result"
    }
   ],
   "source": [
    "response.json()"
   ]
  },
  {
   "cell_type": "markdown",
   "metadata": {},
   "source": [
    "### This is the dates when the ISS Will go over pune"
   ]
  },
  {
   "cell_type": "code",
   "execution_count": 29,
   "metadata": {},
   "outputs": [
    {
     "data": {
      "text/plain": [
       "[datetime.datetime(2022, 2, 6, 19, 1, 50),\n",
       " datetime.datetime(2022, 2, 6, 20, 38, 21),\n",
       " datetime.datetime(2022, 2, 7, 8, 23, 56),\n",
       " datetime.datetime(2022, 2, 7, 9, 58, 31),\n",
       " datetime.datetime(2022, 2, 7, 11, 39, 1)]"
      ]
     },
     "execution_count": 29,
     "metadata": {},
     "output_type": "execute_result"
    }
   ],
   "source": [
    "rise_times = [datetime.fromtimestamp(i['risetime']) for i in response.json()['response']] # just the rise_times in normal form\n",
    "rise_times"
   ]
  },
  {
   "cell_type": "markdown",
   "metadata": {},
   "source": [
    "## Number of People in Space\n",
    "\n",
    "This is simple a list of all the people in space right now. "
   ]
  },
  {
   "cell_type": "code",
   "execution_count": 31,
   "metadata": {},
   "outputs": [],
   "source": [
    "response = requests.get(\"http://api.open-notify.org/astros.json\")"
   ]
  },
  {
   "cell_type": "code",
   "execution_count": 32,
   "metadata": {},
   "outputs": [
    {
     "data": {
      "text/plain": [
       "{'people': [{'craft': 'ISS', 'name': 'Mark Vande Hei'},\n",
       "  {'craft': 'ISS', 'name': 'Pyotr Dubrov'},\n",
       "  {'craft': 'ISS', 'name': 'Anton Shkaplerov'},\n",
       "  {'craft': 'Shenzhou 13', 'name': 'Zhai Zhigang'},\n",
       "  {'craft': 'Shenzhou 13', 'name': 'Wang Yaping'},\n",
       "  {'craft': 'Shenzhou 13', 'name': 'Ye Guangfu'},\n",
       "  {'craft': 'ISS', 'name': 'Raja Chari'},\n",
       "  {'craft': 'ISS', 'name': 'Tom Marshburn'},\n",
       "  {'craft': 'ISS', 'name': 'Kayla Barron'},\n",
       "  {'craft': 'ISS', 'name': 'Matthias Maurer'}],\n",
       " 'message': 'success',\n",
       " 'number': 10}"
      ]
     },
     "execution_count": 32,
     "metadata": {},
     "output_type": "execute_result"
    }
   ],
   "source": [
    "response.json()"
   ]
  },
  {
   "cell_type": "code",
   "execution_count": 35,
   "metadata": {},
   "outputs": [
    {
     "data": {
      "text/plain": [
       "['Mark Vande Hei',\n",
       " 'Pyotr Dubrov',\n",
       " 'Anton Shkaplerov',\n",
       " 'Zhai Zhigang',\n",
       " 'Wang Yaping',\n",
       " 'Ye Guangfu',\n",
       " 'Raja Chari',\n",
       " 'Tom Marshburn',\n",
       " 'Kayla Barron',\n",
       " 'Matthias Maurer']"
      ]
     },
     "execution_count": 35,
     "metadata": {},
     "output_type": "execute_result"
    }
   ],
   "source": [
    "people = [i['name'] for i in response.json()['people']]\n",
    "people"
   ]
  },
  {
   "cell_type": "code",
   "execution_count": null,
   "metadata": {},
   "outputs": [],
   "source": []
  }
 ],
 "metadata": {
  "interpreter": {
   "hash": "f82e8ed49f2e756dcb272e46eaa928f3354408858dd66707dda6895903f5c499"
  },
  "kernelspec": {
   "display_name": "Python 3.8.8 64-bit ('Experimentation-Venv': venv)",
   "language": "python",
   "name": "python3"
  },
  "language_info": {
   "codemirror_mode": {
    "name": "ipython",
    "version": 3
   },
   "file_extension": ".py",
   "mimetype": "text/x-python",
   "name": "python",
   "nbconvert_exporter": "python",
   "pygments_lexer": "ipython3",
   "version": "3.8.8"
  },
  "orig_nbformat": 4
 },
 "nbformat": 4,
 "nbformat_minor": 2
}
