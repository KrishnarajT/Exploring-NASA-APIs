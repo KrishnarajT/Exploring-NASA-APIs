{
 "cells": [
  {
   "cell_type": "markdown",
   "metadata": {},
   "source": [
    "# Earth Imaging with the Landsat-8"
   ]
  },
  {
   "cell_type": "markdown",
   "metadata": {},
   "source": [
    "Landsat imagery is provided to the public as a joint project between NASA and USGS. A recent industry report on landsat satellite imagery data estimates that total annual value to the economy of $2.19 billion, far exceeding the multi-year total cost of building, launching, and managing Landsat satellites and sensors. The value is derived from consumers use of the data. The objective of this endpoint is to give you an easy to use taste of what Landsat imagery data can provide. There are more complicated APIs available if you want to build models on top of satellite imagery, apply machine-learning, or minimize clouds in your image. NASA's Earth Science Devision has a variety of Earth imagery APIs for developers, which you can find out about in the Earthdata Developer Portal. Specifically, the GIBS (Global Imagery Browse Services) API may be of interest. The Google Earth Engine API is another powerful option. This API is powered by Google Earth Engine API, and currently only supports pan-sharpened Landsat 8 imagery."
   ]
  },
  {
   "cell_type": "markdown",
   "metadata": {},
   "source": [
    "### Importing and declaring basics"
   ]
  },
  {
   "cell_type": "code",
   "execution_count": 2,
   "metadata": {},
   "outputs": [],
   "source": [
    "import requests\n",
    "import json\n",
    "import os\n",
    "import PIL\n",
    "import urllib\n",
    "from datetime import date, time, datetime\n",
    "\n",
    "\n",
    "# Basic function to clean up output\n",
    "def jprint(obj):\n",
    "    # create a formatted string of the Python JSON object\n",
    "    text = json.dumps(obj, sort_keys=True, indent=4)\n",
    "    print(text)\n",
    "    \n",
    "    \n",
    "# Getting the API Key into the script\n",
    "with open(os.path.join(os.getcwd(), \"My_API_KEY\"), 'r') as file:\n",
    "    my_api_key = file.read()\n",
    "    "
   ]
  },
  {
   "cell_type": "markdown",
   "metadata": {},
   "source": [
    "So Basically one thing you can do is get the latest current images from the LandSAT-8 satellite of any location on earth taken on a day closest to the day that you supply. Lets try that"
   ]
  },
  {
   "cell_type": "code",
   "execution_count": 3,
   "metadata": {},
   "outputs": [],
   "source": [
    "params = {\n",
    "    \"lat\": 18.52, \n",
    "    \"lon\": 73.85,\n",
    "    'date': '2014-02-10',\n",
    "    'api_key' : my_api_key \n",
    "}"
   ]
  },
  {
   "cell_type": "code",
   "execution_count": 4,
   "metadata": {},
   "outputs": [
    {
     "data": {
      "text/plain": [
       "{'date': '2014-02-16T05:28:39.560000',\n",
       " 'id': 'LANDSAT/LC08/C01/T1_SR/LC08_147047_20140216',\n",
       " 'resource': {'dataset': 'LANDSAT/LC08/C01/T1_SR', 'planet': 'earth'},\n",
       " 'service_version': 'v5000',\n",
       " 'url': 'https://earthengine.googleapis.com/v1alpha/projects/earthengine-legacy/thumbnails/9898a13bff7c6c6049d7065712670a8f-55f639f3a745f0101e4799e08ca3f160:getPixels'}"
      ]
     },
     "execution_count": 4,
     "metadata": {},
     "output_type": "execute_result"
    }
   ],
   "source": [
    "response = requests.get('https://api.nasa.gov/planetary/earth/assets', params)\n",
    "response.json()"
   ]
  },
  {
   "cell_type": "code",
   "execution_count": 65,
   "metadata": {},
   "outputs": [
    {
     "data": {
      "text/plain": [
       "('a.jpg', <http.client.HTTPMessage at 0x2c1d8f399d0>)"
      ]
     },
     "execution_count": 65,
     "metadata": {},
     "output_type": "execute_result"
    }
   ],
   "source": [
    "# This would then download the image on that date. \n",
    "urllib.request.urlretrieve(response.json()['url'], 'a.jpg')"
   ]
  },
  {
   "cell_type": "markdown",
   "metadata": {},
   "source": [
    "# Doing this for a particular place throughout the years"
   ]
  },
  {
   "cell_type": "code",
   "execution_count": 87,
   "metadata": {},
   "outputs": [
    {
     "name": "stdout",
     "output_type": "stream",
     "text": [
      "not found on  4 2016\n",
      "not found on  4 2018\n",
      "not found on  4 2021\n",
      "not found on  6 2021\n"
     ]
    }
   ],
   "source": [
    "for i in range(8):\n",
    "    for j in range(1, 7):\n",
    "        params = {\n",
    "            \"lat\": 20.583, \n",
    "            \"lon\": 80.934,\n",
    "            'date': date(2014+ i, 2 * j, 1),\n",
    "            'api_key' : my_api_key \n",
    "        }\n",
    "        try: \n",
    "            response = requests.get('https://api.nasa.gov/planetary/earth/assets', params)\n",
    "            # This would then download the image on that date. \n",
    "            k = 2014 + i\n",
    "            urllib.request.urlretrieve(response.json()['url'], os.path.join(os.getcwd(), 'Pune', f'Pune as seen on {k} {j}.jpg')) \n",
    "        except: \n",
    "            print('not found on ', j, k)"
   ]
  },
  {
   "cell_type": "markdown",
   "metadata": {},
   "source": [
    "## Qatar"
   ]
  },
  {
   "cell_type": "code",
   "execution_count": 90,
   "metadata": {},
   "outputs": [],
   "source": [
    "for i in range(8):\n",
    "    for j in range(1, 4):\n",
    "        params = {\n",
    "            \"lat\": 40.7318, \n",
    "            \"lon\": -73.99,\n",
    "            'date': date(2014+ i, 3 * j, 1),\n",
    "            'api_key' : my_api_key \n",
    "        }\n",
    "        try: \n",
    "            response = requests.get('https://api.nasa.gov/planetary/earth/assets', params)\n",
    "            # This would then download the image on that date. \n",
    "            k = 2014 + i\n",
    "            l = 3 * j\n",
    "            urllib.request.urlretrieve(response.json()['url'], os.path.join(os.getcwd(), 'New York', f'NYC as seen on {k} {l}.jpg')) \n",
    "        except: \n",
    "            print('not found on ', j, k)"
   ]
  },
  {
   "cell_type": "code",
   "execution_count": null,
   "metadata": {},
   "outputs": [],
   "source": []
  }
 ],
 "metadata": {
  "interpreter": {
   "hash": "f82e8ed49f2e756dcb272e46eaa928f3354408858dd66707dda6895903f5c499"
  },
  "kernelspec": {
   "display_name": "Python 3.8.8 64-bit ('Experimentation-Venv': venv)",
   "language": "python",
   "name": "python3"
  },
  "language_info": {
   "codemirror_mode": {
    "name": "ipython",
    "version": 3
   },
   "file_extension": ".py",
   "mimetype": "text/x-python",
   "name": "python",
   "nbconvert_exporter": "python",
   "pygments_lexer": "ipython3",
   "version": "3.8.8"
  },
  "orig_nbformat": 4
 },
 "nbformat": 4,
 "nbformat_minor": 2
}
