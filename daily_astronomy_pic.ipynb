{
 "cells": [
  {
   "cell_type": "markdown",
   "metadata": {},
   "source": [
    "# Astronomy Picture of the Day"
   ]
  },
  {
   "cell_type": "markdown",
   "metadata": {},
   "source": [
    "One of the most popular websites at NASA is the Astronomy Picture of the Day. In fact, this website is one of the most popular websites across all federal agencies. It has the popular appeal of a Justin Bieber video. This endpoint structures the APOD imagery and associated metadata so that it can be repurposed for other applications. In addition, if the concept_tags parameter is set to True, then keywords derived from the image explanation are returned. These keywords could be used as auto-generated hashtags for twitter or instagram feeds; but generally help with discoverability of relevant imagery.\n",
    "\n",
    "The full documentation for this API can be found in the APOD API Github repository."
   ]
  },
  {
   "cell_type": "markdown",
   "metadata": {},
   "source": [
    "To begin well be using requests library for making API requests as usual"
   ]
  },
  {
   "cell_type": "code",
   "execution_count": 21,
   "metadata": {},
   "outputs": [],
   "source": [
    "import requests # to get the images\n",
    "import json # to maybe make the output more readable\n",
    "import urllib # for downloading the image\n",
    "import os # for image path manipulation\n",
    "from exif import Image # to edit image metadata if needed\n",
    "\n",
    "with open(os.path.join(os.getcwd(), \"My_API_KEY\"), 'r') as file:\n",
    "    my_api_key = file.read()\n"
   ]
  },
  {
   "cell_type": "markdown",
   "metadata": {},
   "source": [
    "Now there are certain parameters that go along with API's. These are called query paramaters and can be found in the documentation. \n",
    "For the APOD API, there query paramaters are given here.\n",
    "\n",
    "These paramaters are given with the get function from the requests library as a python dictionary, because as we already know they are already pretty similar to JSON, however, they can also be added to the URL directly.\n",
    "\n",
    "It’s almost always preferable to setup the parameters as a dictionary, because requests takes care of some things that come up, like properly formatting the query parameters, and we don’t need to worry about inserting the values into the URL string."
   ]
  },
  {
   "cell_type": "markdown",
   "metadata": {},
   "source": [
    "## Modifying Query Paramaters"
   ]
  },
  {
   "cell_type": "code",
   "execution_count": 22,
   "metadata": {},
   "outputs": [],
   "source": [
    "params = {\n",
    "    # \"date\" : '2002-12-20' # you can change this to any date.\n",
    "}\n",
    "response = requests.get(f\"https://api.nasa.gov/planetary/apod?api_key={my_api_key}\", params) # getting the image for the day for a particualr date"
   ]
  },
  {
   "cell_type": "code",
   "execution_count": 23,
   "metadata": {},
   "outputs": [
    {
     "name": "stdout",
     "output_type": "stream",
     "text": [
      "{\n",
      "    \"date\": \"2022-02-06\",\n",
      "    \"explanation\": \"Welcome to planet Earth, the third planet from a star named the Sun.  The Earth is shaped like a sphere and composed mostly of rock.  Over 70 percent of the Earth's surface is water.  The planet has a relatively thin atmosphere composed mostly of nitrogen and oxygen.  The featured picture of Earth, dubbed The Blue Marble, was taken from Apollo 17 in 1972 and features Africa and Antarctica.  It is thought to be one of the most widely distributed photographs of any kind.  Earth has a single large Moon that is about 1/4 of its diameter and, from the planet's surface, is seen to have almost exactly the same angular size as the Sun.  With its abundance of liquid water, Earth supports a large variety of life forms, including potentially intelligent species such as dolphins and humans.  Please enjoy your stay on planet Earth.\",\n",
      "    \"hdurl\": \"https://apod.nasa.gov/apod/image/2202/bluemarble_apollo17_3000.jpg\",\n",
      "    \"media_type\": \"image\",\n",
      "    \"service_version\": \"v1\",\n",
      "    \"title\": \"Blue Marble Earth\",\n",
      "    \"url\": \"https://apod.nasa.gov/apod/image/2202/bluemarble_apollo17_960.jpg\"\n",
      "}\n"
     ]
    }
   ],
   "source": [
    "# This is like very basic\n",
    "def jprint(obj):\n",
    "    # create a formatted string of the Python JSON object\n",
    "    text = json.dumps(obj, sort_keys=True, indent=4)\n",
    "    print(text)\n",
    "\n",
    "jprint(response.json())"
   ]
  },
  {
   "cell_type": "markdown",
   "metadata": {},
   "source": [
    "# Downloading the Image"
   ]
  },
  {
   "cell_type": "code",
   "execution_count": 18,
   "metadata": {},
   "outputs": [],
   "source": [
    "urllib.request.urlretrieve(response.json()['hdurl'], os.path.join(os.getcwd(), 'Daily Astronomy Pic', response.json()['title'] + '.jpg'))\n",
    "# This would then download the image on that date. \n",
    "\n",
    "# add details to a file so we can refer it later. \n",
    "with open(os.path.join('Daily Astronomy Pic', 'Details.txt'), 'a', encoding='UTF-8') as file:\n",
    "    file.writelines([response.json()['title'] + '\\n', response.json()['date'] + '\\n', response.json()['explanation'], '\\n\\n'])\n"
   ]
  },
  {
   "cell_type": "code",
   "execution_count": 19,
   "metadata": {},
   "outputs": [
    {
     "name": "stdout",
     "output_type": "stream",
     "text": [
      "{\n",
      "    \"date\": \"2022-02-06\",\n",
      "    \"explanation\": \"Welcome to planet Earth, the third planet from a star named the Sun.  The Earth is shaped like a sphere and composed mostly of rock.  Over 70 percent of the Earth's surface is water.  The planet has a relatively thin atmosphere composed mostly of nitrogen and oxygen.  The featured picture of Earth, dubbed The Blue Marble, was taken from Apollo 17 in 1972 and features Africa and Antarctica.  It is thought to be one of the most widely distributed photographs of any kind.  Earth has a single large Moon that is about 1/4 of its diameter and, from the planet's surface, is seen to have almost exactly the same angular size as the Sun.  With its abundance of liquid water, Earth supports a large variety of life forms, including potentially intelligent species such as dolphins and humans.  Please enjoy your stay on planet Earth.\",\n",
      "    \"hdurl\": \"https://apod.nasa.gov/apod/image/2202/bluemarble_apollo17_3000.jpg\",\n",
      "    \"media_type\": \"image\",\n",
      "    \"service_version\": \"v1\",\n",
      "    \"title\": \"Blue Marble Earth\",\n",
      "    \"url\": \"https://apod.nasa.gov/apod/image/2202/bluemarble_apollo17_960.jpg\"\n",
      "}\n"
     ]
    }
   ],
   "source": [
    "# This is like very basic\n",
    "def jprint(obj):\n",
    "    # create a formatted string of the Python JSON object\n",
    "    text = json.dumps(obj, sort_keys=True, indent=4)\n",
    "    print(text)\n",
    "\n",
    "jprint(response.json())"
   ]
  },
  {
   "cell_type": "markdown",
   "metadata": {},
   "source": [
    "#### Editing Image Metadata"
   ]
  },
  {
   "cell_type": "code",
   "execution_count": 20,
   "metadata": {},
   "outputs": [
    {
     "name": "stdout",
     "output_type": "stream",
     "text": [
      "Cant Edit Image Metadata\n"
     ]
    }
   ],
   "source": [
    "try:\n",
    "    with open(os.path.join(os.getcwd(), 'Daily Astronomy Pic', response.json()['title'] + '.jpg'), 'rb') as image_file:\n",
    "        my_image = Image(image_file)\n",
    "\n",
    "    # Modifying some random part of the EXIF Data so that the explanation stays in the image along with the copyright\n",
    "    my_image.make = 'Explanation: \\n' + response.json()['explanation']  + '\\nThis Photo was retrieved using NASA APOD API of the date ' + response.json()['date']\n",
    "    my_image.copyright = response.json()['copyright'] + 'NASA APOD'\n",
    "\n",
    "    # ReWriting that Image\n",
    "\n",
    "    with open(os.path.join(os.getcwd(), 'Daily Astronomy Pic', response.json()['title'] + '.jpg'), 'wb') as new_image_file:\n",
    "        new_image_file.write(my_image.get_file())\n",
    "except: \n",
    "    print(\"Cant Edit Image Metadata\")"
   ]
  },
  {
   "cell_type": "markdown",
   "metadata": {},
   "source": [
    "# Retrieving Multiple images randomly using the count query parameter"
   ]
  },
  {
   "cell_type": "code",
   "execution_count": null,
   "metadata": {},
   "outputs": [],
   "source": [
    "params = {\n",
    "    'count': 10\n",
    "}\n",
    "response = requests.get(f\"https://api.nasa.gov/planetary/apod?api_key={my_api_key}\", params) # getting the list of images"
   ]
  },
  {
   "cell_type": "code",
   "execution_count": null,
   "metadata": {},
   "outputs": [],
   "source": [
    "for image in response.json():\n",
    "    urllib.request.urlretrieve(image['hdurl'], os.path.join(os.getcwd(), 'Daily Astronomy Pic', image['title'].replace('!', '_').replace('?', '_') + '.jpg'))\n",
    "    try: \n",
    "        with open(os.path.join('Daily Astronomy Pic', 'Details.txt'), 'a', encoding='UTF-8') as file:\n",
    "            file.writelines([image['title'] + '\\n', image['date'] + '\\n', image['explanation'], '\\n\\n'])\n",
    "    except:\n",
    "        print('Couldnt append details file.')"
   ]
  }
 ],
 "metadata": {
  "interpreter": {
   "hash": "f82e8ed49f2e756dcb272e46eaa928f3354408858dd66707dda6895903f5c499"
  },
  "kernelspec": {
   "display_name": "Python 3.8.8 64-bit ('Experimentation-Venv': venv)",
   "language": "python",
   "name": "python3"
  },
  "language_info": {
   "codemirror_mode": {
    "name": "ipython",
    "version": 3
   },
   "file_extension": ".py",
   "mimetype": "text/x-python",
   "name": "python",
   "nbconvert_exporter": "python",
   "pygments_lexer": "ipython3",
   "version": "3.8.8"
  },
  "orig_nbformat": 4
 },
 "nbformat": 4,
 "nbformat_minor": 2
}
